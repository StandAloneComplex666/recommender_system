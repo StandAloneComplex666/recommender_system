{
 "cells": [
  {
   "cell_type": "markdown",
   "metadata": {},
   "source": [
    "# 待改进和解决的问题：\n",
    "1. 所有数据的读入读出应该走统一的数据目录，而不是存在与脚本同一目录下（problem1）\n",
    "2. default baby birthday 的 encode 部分，应该和其他时间变量放在同一个函数中进行处理，下个版本改正（problem2）\n",
    "3. 统计数据类别并按顺序编码的部分应该抽象成一个函数解决"
   ]
  },
  {
   "cell_type": "code",
   "execution_count": 1,
   "metadata": {},
   "outputs": [],
   "source": [
    "import pandas as pd\n",
    "import numpy as np\n",
    "from sklearn import preprocessing\n",
    "import matplotlib.pyplot as plt \n",
    "plt.rc(\"font\", size=14)\n",
    "from sklearn.linear_model import LogisticRegression\n",
    "from sklearn.model_selection import train_test_split\n",
    "import seaborn as sns"
   ]
  },
  {
   "cell_type": "code",
   "execution_count": 48,
   "metadata": {},
   "outputs": [],
   "source": [
    "# problem1\n",
    "df_user_dataset = pd.read_csv('user_data_v1.csv')\n",
    "df_user_dataset = df_user_dataset.rename(columns = {'Unnamed: 0':'user_id'})\n",
    "df_input = pd.DataFrame()\n",
    "df_user_used_coupon = df_user_dataset[~df_user_dataset['UseCoupon'].isnull()]"
   ]
  },
  {
   "cell_type": "code",
   "execution_count": 49,
   "metadata": {},
   "outputs": [],
   "source": [
    "display(df_user_used_coupon.shape)\n",
    "# display(df_user_used_coupon.head(20))\n",
    "# display(df_user_used_coupon['UseCoupon'].value_counts())"
   ]
  },
  {
   "cell_type": "code",
   "execution_count": 11,
   "metadata": {},
   "outputs": [
    {
     "data": {
      "text/plain": [
       "Beijing         148\n",
       "Shanghai        113\n",
       "Hangzhou         92\n",
       "Shenzhen         87\n",
       "Guangzhou        76\n",
       "Chengdu          59\n",
       "Wuhan            43\n",
       "Changsha         42\n",
       "Suzhou           36\n",
       "Xi'an            35\n",
       "Chongqing        35\n",
       "Nanjing          33\n",
       "Tianjin          32\n",
       "Hefei            29\n",
       "Ningbo           27\n",
       "Qingdao          25\n",
       "Foshan           20\n",
       "Xiamen           20\n",
       "Zhengzhou        19\n",
       "Wuxi             16\n",
       "Dongguan         15\n",
       "Nanning          15\n",
       "Wenzhou          15\n",
       "Fuzhou           14\n",
       "Jinan            13\n",
       "Changzhou        13\n",
       "Nanchang         12\n",
       "Nantong          12\n",
       "Shenyang         12\n",
       "Dalian            9\n",
       "               ... \n",
       "Cangzhou          1\n",
       "Zhanjiang         1\n",
       "Jiujiang          1\n",
       "Loudi             1\n",
       "Kowloon           1\n",
       "Gaomi             1\n",
       "Wenshan City      1\n",
       "Zaozhuang         1\n",
       "Pingdingshan      1\n",
       "Linhai            1\n",
       "Maoming           1\n",
       "Dongyang          1\n",
       "Yanjiang          1\n",
       "Leshan            1\n",
       "Phnom Penh        1\n",
       "Bangkok           1\n",
       "Shuangyashan      1\n",
       "Quzhou            1\n",
       "Korla             1\n",
       "Zhangye           1\n",
       "Panjin            1\n",
       "Shuozhou          1\n",
       "Datong            1\n",
       "Baoding           1\n",
       "Zhaotong          1\n",
       "Tongzhou          1\n",
       "Tongling          1\n",
       "Xingyi            1\n",
       "Neijiang          1\n",
       "Liuzhou           1\n",
       "Name: city, Length: 208, dtype: int64"
      ]
     },
     "metadata": {},
     "output_type": "display_data"
    },
    {
     "data": {
      "text/plain": [
       "Guangdong                           218\n",
       "Zhejiang                            173\n",
       "Jiangsu                             150\n",
       "Beijing                             150\n",
       "Shanghai                            122\n",
       "Sichuan                              69\n",
       "Shandong                             66\n",
       "Hunan                                57\n",
       "Hubei                                47\n",
       "Fujian                               43\n",
       "Anhui                                42\n",
       "Shaanxi                              38\n",
       "Henan                                37\n",
       "Chongqing                            35\n",
       "Liaoning                             32\n",
       "Tianjin                              32\n",
       "Hebei                                21\n",
       "Jiangxi                              20\n",
       "Guangxi                              17\n",
       "Shanxi                               16\n",
       "Heilongjiang                         13\n",
       "Jilin                                12\n",
       "Inner Mongolia Autonomous Region     11\n",
       "Yunnan                               11\n",
       "Guizhou                               9\n",
       "Hainan                                9\n",
       "Xinjiang                              8\n",
       "Gansu                                 5\n",
       "Ningxia Hui Autonomous Region         4\n",
       "Central and Western District          3\n",
       "Yuen Long District                    2\n",
       "Qinghai                               2\n",
       "Ohio                                  2\n",
       "Kowloon City                          1\n",
       "New York                              1\n",
       "Querétaro                             1\n",
       "Phnom Penh                            1\n",
       "Metro Manila                          1\n",
       "Bangkok                               1\n",
       "Ōsaka                                 1\n",
       "Florida                               1\n",
       "Fukuoka                               1\n",
       "Tokyo                                 1\n",
       "North Rhine-Westphalia                1\n",
       "Name: region, dtype: int64"
      ]
     },
     "metadata": {},
     "output_type": "display_data"
    },
    {
     "data": {
      "text/plain": [
       "China            1469\n",
       "Hong Kong           7\n",
       "United States       4\n",
       "Japan               3\n",
       "Germany             1\n",
       "Cambodia            1\n",
       "Mexico              1\n",
       "Thailand            1\n",
       "Macau               1\n",
       "Philippines         1\n",
       "Name: country, dtype: int64"
      ]
     },
     "metadata": {},
     "output_type": "display_data"
    },
    {
     "data": {
      "text/plain": [
       "Apple    1451\n",
       "Name: device_manufacturer, dtype: int64"
      ]
     },
     "metadata": {},
     "output_type": "display_data"
    },
    {
     "data": {
      "text/plain": [
       "Apple iPhone X          175\n",
       "Apple iPhone 7 Plus     134\n",
       "Apple iPhone 8 Plus     114\n",
       "Apple iPhone 6s         109\n",
       "Apple iPhone 6s Plus    108\n",
       "Apple iPhone 7           89\n",
       "Apple iPad 6             88\n",
       "Apple iPhone 6           84\n",
       "Apple iPad Air 2         59\n",
       "Apple iPhone 8           57\n",
       "Apple iPhone 6 Plus      53\n",
       "Apple iPhone XS Max      51\n",
       "Apple iPad Air           51\n",
       "Apple iPad Mini 2        49\n",
       "Apple iPad 5             48\n",
       "Apple iPad Mini 4        42\n",
       "Apple iPhone XR          36\n",
       "Apple iPad 4             33\n",
       "Apple iPad Pro           31\n",
       "Apple iPhone XS          17\n",
       "Apple iPhone SE          12\n",
       "Apple iPad Pro 3         11\n",
       "Apple iPad Mini           9\n",
       "Apple iPad 3              8\n",
       "Apple iPad Mini 3         7\n",
       "Apple iPad 2              6\n",
       "Apple iPhone 5s           3\n",
       "Apple iPad Pro 2          2\n",
       "Apple iPhone 5c           2\n",
       "Apple iPhone 5            1\n",
       "Name: device_type, dtype: int64"
      ]
     },
     "metadata": {},
     "output_type": "display_data"
    },
    {
     "data": {
      "text/plain": [
       "7.14.2    1305\n",
       "7.14.1      70\n",
       "7.14.0      21\n",
       "7.13.2      17\n",
       "7.12.0      15\n",
       "7.13.1      12\n",
       "7.9.0       10\n",
       "7.11.1       8\n",
       "7.10.1       7\n",
       "7.8.9        5\n",
       "7.13.0       4\n",
       "7.8.6        3\n",
       "7.8.8        2\n",
       "7.8.4        2\n",
       "7.8.7        2\n",
       "6.7.1        1\n",
       "7.11.0       1\n",
       "8.0.0        1\n",
       "7.10.0       1\n",
       "7.7.3        1\n",
       "7.8.5        1\n",
       "Name: version_name, dtype: int64"
      ]
     },
     "metadata": {},
     "output_type": "display_data"
    },
    {
     "data": {
      "text/plain": [
       "wechat    747\n",
       "mobile    722\n",
       "guest      10\n",
       "qq          7\n",
       "email       2\n",
       "weibo       1\n",
       "Name: Account, dtype: int64"
      ]
     },
     "metadata": {},
     "output_type": "display_data"
    },
    {
     "data": {
      "text/plain": [
       "2019-03-01 11:36:01 +0000    1\n",
       "2019-01-24 12:49:02 +0000    1\n",
       "2015-06-17 06:24:02 +0000    1\n",
       "2016-06-28 03:43:17 +0000    1\n",
       "2018-09-08 02:29:38 +0000    1\n",
       "2018-08-27 04:16:40 +0000    1\n",
       "2018-12-03 07:49:52 +0000    1\n",
       "2019-01-28 10:13:38 +0000    1\n",
       "2018-12-09 03:42:36 +0000    1\n",
       "2018-04-12 13:28:09 +0000    1\n",
       "2018-09-12 12:50:24 +0000    1\n",
       "2016-11-22 04:05:33 +0000    1\n",
       "2019-03-01 14:21:24 +0000    1\n",
       "2019-02-16 03:56:15 +0000    1\n",
       "2019-02-28 11:54:23 +0000    1\n",
       "2019-02-27 10:17:03 +0000    1\n",
       "2018-08-08 14:59:45 +0000    1\n",
       "2019-02-13 03:37:02 +0000    1\n",
       "2019-02-28 13:22:20 +0000    1\n",
       "2018-10-08 13:56:00 +0000    1\n",
       "2019-01-22 13:02:41 +0000    1\n",
       "2018-11-01 11:54:18 +0000    1\n",
       "2018-02-12 12:32:22 +0000    1\n",
       "2019-02-26 13:19:48 +0000    1\n",
       "2016-10-29 13:11:09 +0000    1\n",
       "2019-02-21 09:46:04 +0000    1\n",
       "2016-09-06 05:52:18 +0000    1\n",
       "2019-02-05 04:40:03 +0000    1\n",
       "2018-05-17 12:17:21 +0000    1\n",
       "2019-02-22 11:02:33 +0000    1\n",
       "                            ..\n",
       "2017-04-15 05:05:54 +0000    1\n",
       "2019-02-26 23:53:56 +0000    1\n",
       "2016-10-06 12:49:17 +0000    1\n",
       "2019-02-27 13:43:45 +0000    1\n",
       "2018-07-16 23:59:04 +0000    1\n",
       "2017-11-05 14:06:26 +0000    1\n",
       "2019-01-21 09:12:49 +0000    1\n",
       "2018-02-13 03:17:31 +0000    1\n",
       "2019-03-01 11:13:23 +0000    1\n",
       "2019-02-26 13:25:49 +0000    1\n",
       "2015-11-11 09:58:04 +0000    1\n",
       "2019-01-30 12:12:48 +0000    1\n",
       "2015-10-18 09:31:38 +0000    1\n",
       "2018-04-14 04:34:38 +0000    1\n",
       "2018-01-11 00:27:54 +0000    1\n",
       "2018-10-13 01:45:54 +0000    1\n",
       "2019-02-27 04:30:42 +0000    1\n",
       "2018-09-28 04:41:03 +0000    1\n",
       "2015-07-09 13:14:45 +0000    1\n",
       "2019-02-16 12:49:03 +0000    1\n",
       "2018-08-20 13:30:53 +0000    1\n",
       "2018-11-06 02:57:17 +0000    1\n",
       "2019-02-08 10:08:25 +0000    1\n",
       "2019-02-20 06:05:10 +0000    1\n",
       "2017-02-26 06:01:08 +0000    1\n",
       "2018-10-11 04:58:08 +0000    1\n",
       "2018-09-04 13:37:33 +0000    1\n",
       "2019-02-25 05:45:29 +0000    1\n",
       "2018-03-08 11:23:17 +0000    1\n",
       "2017-09-04 11:50:25 +0000    1\n",
       "Name: Account Created, Length: 1489, dtype: int64"
      ]
     },
     "metadata": {},
     "output_type": "display_data"
    },
    {
     "data": {
      "text/plain": [
       "201408.0    44\n",
       "201411.0    44\n",
       "201410.0    36\n",
       "201412.0    35\n",
       "201404.0    32\n",
       "201405.0    32\n",
       "201409.0    32\n",
       "201505.0    31\n",
       "201503.0    29\n",
       "201403.0    28\n",
       "201506.0    28\n",
       "201502.0    28\n",
       "201402.0    28\n",
       "201401.0    28\n",
       "201510.0    27\n",
       "201608.0    27\n",
       "201407.0    27\n",
       "201602.0    26\n",
       "201607.0    24\n",
       "201601.0    23\n",
       "201501.0    23\n",
       "201406.0    23\n",
       "201312.0    23\n",
       "201610.0    22\n",
       "201309.0    22\n",
       "201511.0    22\n",
       "201306.0    22\n",
       "201609.0    22\n",
       "201507.0    22\n",
       "201310.0    21\n",
       "            ..\n",
       "201004.0     3\n",
       "201104.0     3\n",
       "201003.0     2\n",
       "200909.0     2\n",
       "200910.0     2\n",
       "201011.0     2\n",
       "201103.0     2\n",
       "201107.0     2\n",
       "201802.0     2\n",
       "201708.0     2\n",
       "201712.0     2\n",
       "201809.0     1\n",
       "201806.0     1\n",
       "200703.0     1\n",
       "200803.0     1\n",
       "27408.0      1\n",
       "201909.0     1\n",
       "200901.0     1\n",
       "200902.0     1\n",
       "200904.0     1\n",
       "200905.0     1\n",
       "200912.0     1\n",
       "202007.0     1\n",
       "201001.0     1\n",
       "201002.0     1\n",
       "200002.0     1\n",
       "200602.0     1\n",
       "200101.0     1\n",
       "200102.0     1\n",
       "200710.0     1\n",
       "Name: Default Baby Birthday, Length: 121, dtype: int64"
      ]
     },
     "metadata": {},
     "output_type": "display_data"
    },
    {
     "data": {
      "text/plain": [
       "1.0    1384\n",
       "2.0      86\n",
       "3.0      11\n",
       "4.0       3\n",
       "0.0       2\n",
       "6.0       1\n",
       "7.0       1\n",
       "5.0       1\n",
       "Name: Baby Count, dtype: int64"
      ]
     },
     "metadata": {},
     "output_type": "display_data"
    },
    {
     "data": {
      "text/plain": [
       "False    780\n",
       "True     709\n",
       "Name: UseCoupon, dtype: int64"
      ]
     },
     "metadata": {},
     "output_type": "display_data"
    },
    {
     "data": {
      "text/plain": [
       "150.0    462\n",
       "50.0     162\n",
       "10.0      30\n",
       "30.0      26\n",
       "20.0      20\n",
       "0.0        9\n",
       "60.0       8\n",
       "40.0       1\n",
       "Name: CouponPrice, dtype: int64"
      ]
     },
     "metadata": {},
     "output_type": "display_data"
    },
    {
     "data": {
      "text/plain": [
       "Bundle     527\n",
       "General    181\n",
       "Name: CouponType, dtype: int64"
      ]
     },
     "metadata": {},
     "output_type": "display_data"
    }
   ],
   "source": [
    "# display the value counts of all columns of df_user_used_coupon\n",
    "for column in df_user_used_coupon.columns:\n",
    "    if column != 'user_id':\n",
    "        display(df_user_used_coupon[column].value_counts())"
   ]
  },
  {
   "cell_type": "markdown",
   "metadata": {},
   "source": [
    "## region map and encode "
   ]
  },
  {
   "cell_type": "code",
   "execution_count": null,
   "metadata": {},
   "outputs": [],
   "source": [
    "# 地域分布的划分或许需要一种更好的方式，甚至是动态的方式\n",
    "def encode_region(df_user_used_coupon, df_input):\n",
    "    region_encode_map = {'Guangdong':1, 'Zhejiang':2, 'Jiangsu':3, 'Shanghai':4, 'Beijing':10, 'Southwest':5, 'Northwest':6, \n",
    "                         'Northeast':7, 'Northchina':8, 'Middlechina':9, 'notchinamainland':0}\n",
    "    province_region_map = {'Guangdong':'Guangdong', 'Zhejiang':'Zhejiang', 'Jiangsu':'Jiangsu', 'Shanghai':'Shanghai',\n",
    "                          'Sichuan':'Southwest', 'Chongqing':'Southwest', 'Guizhou':'Southwest', 'Yunnan':'Southwest',\n",
    "                          'Guangxi':'Southwest', 'Inner Mongolia Autonomous Region':'Northeast', 'Liaoning':'Northeast',\n",
    "                          'Jilin':'Northeast', 'Heilongjiang':'Northeast', 'Xinjiang':'Northwest', 'Gansu':'Northwest',\n",
    "                          'Qinghai':'Northwest', 'Shaanxi':'Northeast', 'Ningxia Hui Autonomous Region':'Northwest',\n",
    "                          'Shanxi':'Northchina', 'Shandong':'Northchina', 'Hebei':'Northchina', 'Tianjin':'Northchina',\n",
    "                          'Henan':'Northchina', 'Hubei':'Middlechina', 'Hunan':'Middlechina', 'Anhui':'Middlechina',\n",
    "                          'Jiangxi':'Middlechina','Fujian':'Middlechina', 'Hainan':'Middlechina', 'Beijing':'Beijing'}\n",
    "    notchinamainland_map = {}\n",
    "    for region in df_user_used_coupon['region'].unique():\n",
    "        if region not in province_region_map:\n",
    "            notchinamainland_map[region] = 'notchinamainland'\n",
    "    df_input['region'] = df_user_used_coupon['region'].map(province_region_map).map(region_encode_map)"
   ]
  },
  {
   "cell_type": "code",
   "execution_count": 52,
   "metadata": {},
   "outputs": [
    {
     "data": {
      "text/plain": [
       "array([ 5,  3,  8,  9,  2,  1,  4, 10,  7,  0,  6])"
      ]
     },
     "metadata": {},
     "output_type": "display_data"
    }
   ],
   "source": [
    "# display(type(df_user_used_coupon['region'].map(province_region_map)))\n",
    "# display(df_user_used_coupon['region'])\n",
    "# display(df_input['region'].unique())\n",
    "# display(df_user_used_coupon[df_user_used_coupon['region']=='Hainan'])\n",
    "display(df_input['region'].unique())"
   ]
  },
  {
   "cell_type": "markdown",
   "metadata": {},
   "source": [
    "## device map and encode"
   ]
  },
  {
   "cell_type": "code",
   "execution_count": 59,
   "metadata": {},
   "outputs": [],
   "source": [
    "def encode_device(df_user_used_coupon, df_input):\n",
    "    device_encode_map = {'ipad':0, 'iphone':1, 'others':2}\n",
    "    device_type_map = {}\n",
    "    for device_type in df_user_used_coupon['device_type'].unique():\n",
    "        if 'iPad' in device_type:\n",
    "            device_type_map[device_type] = 'ipad'\n",
    "        elif 'iPhone' in device_type:\n",
    "            device_type_map[device_type] = 'iphone'\n",
    "        else:\n",
    "            device_type_map[device_type] = 'others'\n",
    "    df_input['device_type'] = df_user_used_coupon['device_type'].map(device_type_map).map(device_encode_map)\n",
    "    "
   ]
  },
  {
   "cell_type": "code",
   "execution_count": 60,
   "metadata": {},
   "outputs": [],
   "source": [
    "encode_device(df_user_used_coupon, df_input)"
   ]
  },
  {
   "cell_type": "code",
   "execution_count": 61,
   "metadata": {
    "scrolled": true
   },
   "outputs": [
    {
     "data": {
      "text/plain": [
       "12     0\n",
       "208    0\n",
       "237    1\n",
       "265    0\n",
       "297    0\n",
       "Name: device_type, dtype: int64"
      ]
     },
     "metadata": {},
     "output_type": "display_data"
    },
    {
     "data": {
      "text/plain": [
       "1    1045\n",
       "0     444\n",
       "Name: device_type, dtype: int64"
      ]
     },
     "metadata": {},
     "output_type": "display_data"
    }
   ],
   "source": [
    "# display(df_user_used_coupon['device_type'].value_counts())\n",
    "display(df_input['device_type'].head())\n",
    "display(df_input['device_type'].value_counts())"
   ]
  },
  {
   "cell_type": "markdown",
   "metadata": {},
   "source": [
    "## version and account info map and encode"
   ]
  },
  {
   "cell_type": "code",
   "execution_count": 86,
   "metadata": {},
   "outputs": [],
   "source": [
    "def encode_version(df_input, df_user_used_coupon):\n",
    "    df_input['version_name'] = df_user_used_coupon['version_name']\n",
    "    df_input['version_name'] = df_input['version_name'].apply(lambda x: int(x[0]))\n"
   ]
  },
  {
   "cell_type": "code",
   "execution_count": 87,
   "metadata": {},
   "outputs": [],
   "source": [
    "encode_version(df_input, df_user_used_coupon)"
   ]
  },
  {
   "cell_type": "code",
   "execution_count": 88,
   "metadata": {},
   "outputs": [
    {
     "data": {
      "text/plain": [
       "12     7\n",
       "208    7\n",
       "237    7\n",
       "265    7\n",
       "297    7\n",
       "Name: version_name, dtype: int64"
      ]
     },
     "metadata": {},
     "output_type": "display_data"
    },
    {
     "data": {
      "text/plain": [
       "7    1487\n",
       "8       1\n",
       "6       1\n",
       "Name: version_name, dtype: int64"
      ]
     },
     "metadata": {},
     "output_type": "display_data"
    }
   ],
   "source": [
    "display(df_input['version_name'].head())\n",
    "display(df_input['version_name'].value_counts())"
   ]
  },
  {
   "cell_type": "code",
   "execution_count": 110,
   "metadata": {},
   "outputs": [],
   "source": [
    "def encode_account(df_input, df_user_used_coupon):\n",
    "    account_encode_map = dict(zip(df_user_used_coupon['Account'].unique(), [i for i in range(len(df_user_used_coupon['Account'].unique()))]))\n",
    "    df_input['Account'] = df_user_used_coupon['Account'].map(account_encode_map)"
   ]
  },
  {
   "cell_type": "code",
   "execution_count": 111,
   "metadata": {},
   "outputs": [],
   "source": [
    "encode_account(df_input, df_user_used_coupon)"
   ]
  },
  {
   "cell_type": "code",
   "execution_count": 112,
   "metadata": {},
   "outputs": [
    {
     "data": {
      "text/plain": [
       "12     0\n",
       "208    0\n",
       "237    1\n",
       "265    0\n",
       "297    0\n",
       "Name: Account, dtype: int64"
      ]
     },
     "metadata": {},
     "output_type": "display_data"
    },
    {
     "data": {
      "text/plain": [
       "0    747\n",
       "1    722\n",
       "2     10\n",
       "3      7\n",
       "5      2\n",
       "4      1\n",
       "Name: Account, dtype: int64"
      ]
     },
     "metadata": {},
     "output_type": "display_data"
    }
   ],
   "source": [
    "display(df_input['Account'].head())\n",
    "display(df_input['Account'].value_counts())"
   ]
  },
  {
   "cell_type": "markdown",
   "metadata": {},
   "source": [
    "## absolute time to relative time"
   ]
  },
  {
   "cell_type": "code",
   "execution_count": 170,
   "metadata": {},
   "outputs": [],
   "source": [
    "from datetime import datetime\n",
    "def time_delta_timestamp(now, user_time):\n",
    "    return (now - datetime.strptime(user_time, \"%Y-%m-%d %H:%M:%S +%f\")).days\n",
    "def time_transform_abs2rela(df_input, df_user_used_coupon):\n",
    "    current_time = datetime.now()\n",
    "    df_input['Account Created'] = df_user_used_coupon['Account Created'].apply(lambda x:time_delta_timestamp(current_time, x)//365+1)\n",
    "#     df_input['Default Baby Birthday'] = df_user_used_coupon['Default Baby Birthday'].apply\n",
    "    "
   ]
  },
  {
   "cell_type": "code",
   "execution_count": 171,
   "metadata": {},
   "outputs": [],
   "source": [
    "time_transform_abs2rela(df_input, df_user_used_coupon)\n",
    "# display(df_input['Account Created'])"
   ]
  },
  {
   "cell_type": "code",
   "execution_count": 172,
   "metadata": {},
   "outputs": [
    {
     "data": {
      "text/plain": [
       "215"
      ]
     },
     "metadata": {},
     "output_type": "display_data"
    }
   ],
   "source": [
    "from datetime import datetime\n",
    "now = datetime.now()\n",
    "usertime = datetime.strptime(df_user_used_coupon['Account Created'][12],\"%Y-%m-%d %H:%M:%S +%f\")\n",
    "display((now - usertime).days)"
   ]
  },
  {
   "cell_type": "code",
   "execution_count": 173,
   "metadata": {},
   "outputs": [
    {
     "data": {
      "text/plain": [
       "time.struct_time(tm_year=2018, tm_mon=9, tm_mday=13, tm_hour=0, tm_min=52, tm_sec=0, tm_wday=3, tm_yday=256, tm_isdst=-1)"
      ]
     },
     "execution_count": 173,
     "metadata": {},
     "output_type": "execute_result"
    }
   ],
   "source": [
    "time.strptime(df_user_used_coupon['Account Created'][12][:-6], \"%Y-%m-%d %H:%M:%S\")"
   ]
  },
  {
   "cell_type": "markdown",
   "metadata": {},
   "source": [
    "##  encode baby birthday feature"
   ]
  },
  {
   "cell_type": "code",
   "execution_count": 323,
   "metadata": {},
   "outputs": [],
   "source": [
    "now = datetime.now()\n",
    "df_input['Default Baby Birthday'] = df_user_used_coupon['Default Baby Birthday'].astype('int').astype('str').apply(lambda x:x[0:4]+'-'+x[4:])\n",
    "# display(df_input['Default Baby Birthday'])\n",
    "df_input['Default Baby Birthday'] = df_input['Default Baby Birthday'].apply(lambda x:\n",
    "                                                                                (now - datetime.strptime(x, \"%Y-%m\")).days//365+1)"
   ]
  },
  {
   "cell_type": "code",
   "execution_count": 327,
   "metadata": {},
   "outputs": [],
   "source": [
    "# problem2\n",
    "def encode_baby_birtday(df_input, df_user_used_coupon):\n",
    "    now = datetime.now()\n",
    "    df_input['Default Baby Birthday'] = df_user_used_coupon['Default Baby Birthday'].astype('int').astype('str').apply(lambda x:x[0:4]+'-'+x[4:])\n",
    "    df_input['Default Baby Birthday'] = df_input['Default Baby Birthday'].apply(lambda x:\n",
    "                                                                                (now - datetime.strptime(x, \"%Y-%m\")).days//365+1)"
   ]
  },
  {
   "cell_type": "code",
   "execution_count": 328,
   "metadata": {},
   "outputs": [],
   "source": [
    "encode_baby_birtday(df_input, df_user_used_coupon)"
   ]
  },
  {
   "cell_type": "code",
   "execution_count": 330,
   "metadata": {},
   "outputs": [
    {
     "data": {
      "text/plain": [
       "12     4\n",
       "208    6\n",
       "237    6\n",
       "265    6\n",
       "297    8\n",
       "319    2\n",
       "334    5\n",
       "349    3\n",
       "369    3\n",
       "386    8\n",
       "393    4\n",
       "453    8\n",
       "473    9\n",
       "481    4\n",
       "497    5\n",
       "535    7\n",
       "549    6\n",
       "673    6\n",
       "708    5\n",
       "714    6\n",
       "Name: Default Baby Birthday, dtype: int64"
      ]
     },
     "metadata": {},
     "output_type": "display_data"
    }
   ],
   "source": [
    "display(df_input['Default Baby Birthday'].head(20))"
   ]
  },
  {
   "cell_type": "code",
   "execution_count": 190,
   "metadata": {},
   "outputs": [],
   "source": [
    "def encode_baby_count(df_input, df_user_used_coupon):\n",
    "    df_input['Baby Count'] = df_user_used_coupon['Baby Count']\n",
    "    df_input['Baby Count'].loc[df_input['Baby Count'] == 1] = 1\n",
    "    df_input['Baby Count'].loc[df_input['Baby Count'] == 2] = 2\n",
    "    df_input['Baby Count'].loc[(df_input['Baby Count']!=1) & (df_input['Baby Count']!=2)] =0"
   ]
  },
  {
   "cell_type": "code",
   "execution_count": 191,
   "metadata": {},
   "outputs": [],
   "source": [
    "encode_baby_count(df_input, df_user_used_coupon)"
   ]
  },
  {
   "cell_type": "code",
   "execution_count": 196,
   "metadata": {},
   "outputs": [],
   "source": [
    "df_input['Baby Count'] = df_input['Baby Count'].astype(int)"
   ]
  },
  {
   "cell_type": "code",
   "execution_count": 193,
   "metadata": {},
   "outputs": [
    {
     "data": {
      "text/html": [
       "<div>\n",
       "<style scoped>\n",
       "    .dataframe tbody tr th:only-of-type {\n",
       "        vertical-align: middle;\n",
       "    }\n",
       "\n",
       "    .dataframe tbody tr th {\n",
       "        vertical-align: top;\n",
       "    }\n",
       "\n",
       "    .dataframe thead th {\n",
       "        text-align: right;\n",
       "    }\n",
       "</style>\n",
       "<table border=\"1\" class=\"dataframe\">\n",
       "  <thead>\n",
       "    <tr style=\"text-align: right;\">\n",
       "      <th></th>\n",
       "      <th>region</th>\n",
       "      <th>device_type</th>\n",
       "      <th>version_name</th>\n",
       "      <th>Account</th>\n",
       "      <th>Account Created</th>\n",
       "      <th>Default Baby Birthday</th>\n",
       "      <th>CouponType</th>\n",
       "      <th>Baby Count</th>\n",
       "    </tr>\n",
       "  </thead>\n",
       "  <tbody>\n",
       "  </tbody>\n",
       "</table>\n",
       "</div>"
      ],
      "text/plain": [
       "Empty DataFrame\n",
       "Columns: [region, device_type, version_name, Account, Account Created, Default Baby Birthday, CouponType, Baby Count]\n",
       "Index: []"
      ]
     },
     "metadata": {},
     "output_type": "display_data"
    }
   ],
   "source": [
    "display(df_input[df_input['Baby Count'].isnull()])"
   ]
  },
  {
   "cell_type": "markdown",
   "metadata": {},
   "source": [
    "## coupon features encoding"
   ]
  },
  {
   "cell_type": "code",
   "execution_count": 277,
   "metadata": {},
   "outputs": [],
   "source": [
    "def encode_coupon_type(df_input, df_user_used_coupon):\n",
    "    coupon_type_encode_map = {'Bundle':0, 'General':1, float('nan'):2}\n",
    "    df_input['CouponType'] = df_user_used_coupon['CouponType'].map(coupon_type_encode_map)"
   ]
  },
  {
   "cell_type": "code",
   "execution_count": 278,
   "metadata": {},
   "outputs": [],
   "source": [
    "encode_coupon_type(df_input, df_user_used_coupon)"
   ]
  },
  {
   "cell_type": "code",
   "execution_count": 201,
   "metadata": {},
   "outputs": [],
   "source": [
    "df_input = df_input.drop(columns = ['Default Baby Birthday'])"
   ]
  },
  {
   "cell_type": "code",
   "execution_count": null,
   "metadata": {},
   "outputs": [],
   "source": [
    "150.0    462\n",
    "50.0     162\n",
    "10.0      30\n",
    "30.0      26\n",
    "20.0      20\n",
    "0.0        9\n",
    "60.0       8\n",
    "40.0       1"
   ]
  },
  {
   "cell_type": "code",
   "execution_count": 274,
   "metadata": {},
   "outputs": [],
   "source": [
    "def encode_coupon_price(df_input, df_user_used_coupon):\n",
    "    coupon_price_encode_map = {150:0, 60:1, 50:2, 40:3, 30:4, 20:5, 10:6, 0:7, float('nan'):0}\n",
    "    df_input['CouponPrice'] = df_user_used_coupon['CouponPrice'].map(coupon_price_encode_map)"
   ]
  },
  {
   "cell_type": "code",
   "execution_count": 275,
   "metadata": {},
   "outputs": [],
   "source": [
    "encode_coupon_price(df_input, df_user_used_coupon)"
   ]
  },
  {
   "cell_type": "markdown",
   "metadata": {},
   "source": [
    "## add label column"
   ]
  },
  {
   "cell_type": "code",
   "execution_count": 204,
   "metadata": {},
   "outputs": [],
   "source": [
    "df_input['UserCoupon'] = df_user_used_coupon['UseCoupon']"
   ]
  },
  {
   "cell_type": "code",
   "execution_count": 331,
   "metadata": {},
   "outputs": [
    {
     "data": {
      "text/html": [
       "<div>\n",
       "<style scoped>\n",
       "    .dataframe tbody tr th:only-of-type {\n",
       "        vertical-align: middle;\n",
       "    }\n",
       "\n",
       "    .dataframe tbody tr th {\n",
       "        vertical-align: top;\n",
       "    }\n",
       "\n",
       "    .dataframe thead th {\n",
       "        text-align: right;\n",
       "    }\n",
       "</style>\n",
       "<table border=\"1\" class=\"dataframe\">\n",
       "  <thead>\n",
       "    <tr style=\"text-align: right;\">\n",
       "      <th></th>\n",
       "      <th>region</th>\n",
       "      <th>device_type</th>\n",
       "      <th>version_name</th>\n",
       "      <th>Account</th>\n",
       "      <th>Account Created</th>\n",
       "      <th>CouponType</th>\n",
       "      <th>Baby Count</th>\n",
       "      <th>UserCoupon</th>\n",
       "      <th>CouponPrice</th>\n",
       "      <th>Default Baby Birthday</th>\n",
       "    </tr>\n",
       "  </thead>\n",
       "  <tbody>\n",
       "    <tr>\n",
       "      <th>12</th>\n",
       "      <td>5</td>\n",
       "      <td>0</td>\n",
       "      <td>7</td>\n",
       "      <td>0</td>\n",
       "      <td>1</td>\n",
       "      <td>2</td>\n",
       "      <td>1</td>\n",
       "      <td>False</td>\n",
       "      <td>0</td>\n",
       "      <td>4</td>\n",
       "    </tr>\n",
       "    <tr>\n",
       "      <th>208</th>\n",
       "      <td>3</td>\n",
       "      <td>0</td>\n",
       "      <td>7</td>\n",
       "      <td>0</td>\n",
       "      <td>1</td>\n",
       "      <td>2</td>\n",
       "      <td>1</td>\n",
       "      <td>False</td>\n",
       "      <td>0</td>\n",
       "      <td>6</td>\n",
       "    </tr>\n",
       "    <tr>\n",
       "      <th>237</th>\n",
       "      <td>5</td>\n",
       "      <td>1</td>\n",
       "      <td>7</td>\n",
       "      <td>1</td>\n",
       "      <td>3</td>\n",
       "      <td>0</td>\n",
       "      <td>1</td>\n",
       "      <td>True</td>\n",
       "      <td>0</td>\n",
       "      <td>6</td>\n",
       "    </tr>\n",
       "    <tr>\n",
       "      <th>265</th>\n",
       "      <td>8</td>\n",
       "      <td>0</td>\n",
       "      <td>7</td>\n",
       "      <td>0</td>\n",
       "      <td>1</td>\n",
       "      <td>0</td>\n",
       "      <td>1</td>\n",
       "      <td>True</td>\n",
       "      <td>0</td>\n",
       "      <td>6</td>\n",
       "    </tr>\n",
       "    <tr>\n",
       "      <th>297</th>\n",
       "      <td>5</td>\n",
       "      <td>0</td>\n",
       "      <td>7</td>\n",
       "      <td>0</td>\n",
       "      <td>2</td>\n",
       "      <td>2</td>\n",
       "      <td>1</td>\n",
       "      <td>False</td>\n",
       "      <td>0</td>\n",
       "      <td>8</td>\n",
       "    </tr>\n",
       "  </tbody>\n",
       "</table>\n",
       "</div>"
      ],
      "text/plain": [
       "     region  device_type  version_name  Account  Account Created  CouponType  \\\n",
       "12        5            0             7        0                1           2   \n",
       "208       3            0             7        0                1           2   \n",
       "237       5            1             7        1                3           0   \n",
       "265       8            0             7        0                1           0   \n",
       "297       5            0             7        0                2           2   \n",
       "\n",
       "     Baby Count UserCoupon  CouponPrice  Default Baby Birthday  \n",
       "12            1      False            0                      4  \n",
       "208           1      False            0                      6  \n",
       "237           1       True            0                      6  \n",
       "265           1       True            0                      6  \n",
       "297           1      False            0                      8  "
      ]
     },
     "metadata": {},
     "output_type": "display_data"
    }
   ],
   "source": [
    "display(df_input.head())"
   ]
  },
  {
   "cell_type": "code",
   "execution_count": 381,
   "metadata": {},
   "outputs": [
    {
     "data": {
      "text/plain": [
       "Index(['region', 'device_type', 'version_name', 'Account', 'Account Created',\n",
       "       'CouponType', 'Baby Count', 'UserCoupon', 'CouponPrice',\n",
       "       'Default Baby Birthday'],\n",
       "      dtype='object')"
      ]
     },
     "metadata": {},
     "output_type": "display_data"
    }
   ],
   "source": [
    "display(df_input.columns)"
   ]
  },
  {
   "cell_type": "code",
   "execution_count": 368,
   "metadata": {},
   "outputs": [],
   "source": [
    "X = df_input.drop(columns=['UserCoupon','CouponType'])\n",
    "y = df_input['UserCoupon']\n",
    "y = y.map({True:1, False:0})"
   ]
  },
  {
   "cell_type": "code",
   "execution_count": 369,
   "metadata": {},
   "outputs": [
    {
     "data": {
      "text/html": [
       "<div>\n",
       "<style scoped>\n",
       "    .dataframe tbody tr th:only-of-type {\n",
       "        vertical-align: middle;\n",
       "    }\n",
       "\n",
       "    .dataframe tbody tr th {\n",
       "        vertical-align: top;\n",
       "    }\n",
       "\n",
       "    .dataframe thead th {\n",
       "        text-align: right;\n",
       "    }\n",
       "</style>\n",
       "<table border=\"1\" class=\"dataframe\">\n",
       "  <thead>\n",
       "    <tr style=\"text-align: right;\">\n",
       "      <th></th>\n",
       "      <th>region</th>\n",
       "      <th>device_type</th>\n",
       "      <th>version_name</th>\n",
       "      <th>Account</th>\n",
       "      <th>Account Created</th>\n",
       "      <th>Baby Count</th>\n",
       "      <th>CouponPrice</th>\n",
       "      <th>Default Baby Birthday</th>\n",
       "    </tr>\n",
       "  </thead>\n",
       "  <tbody>\n",
       "    <tr>\n",
       "      <th>12</th>\n",
       "      <td>5</td>\n",
       "      <td>0</td>\n",
       "      <td>7</td>\n",
       "      <td>0</td>\n",
       "      <td>1</td>\n",
       "      <td>1</td>\n",
       "      <td>0</td>\n",
       "      <td>4</td>\n",
       "    </tr>\n",
       "    <tr>\n",
       "      <th>208</th>\n",
       "      <td>3</td>\n",
       "      <td>0</td>\n",
       "      <td>7</td>\n",
       "      <td>0</td>\n",
       "      <td>1</td>\n",
       "      <td>1</td>\n",
       "      <td>0</td>\n",
       "      <td>6</td>\n",
       "    </tr>\n",
       "    <tr>\n",
       "      <th>237</th>\n",
       "      <td>5</td>\n",
       "      <td>1</td>\n",
       "      <td>7</td>\n",
       "      <td>1</td>\n",
       "      <td>3</td>\n",
       "      <td>1</td>\n",
       "      <td>0</td>\n",
       "      <td>6</td>\n",
       "    </tr>\n",
       "    <tr>\n",
       "      <th>265</th>\n",
       "      <td>8</td>\n",
       "      <td>0</td>\n",
       "      <td>7</td>\n",
       "      <td>0</td>\n",
       "      <td>1</td>\n",
       "      <td>1</td>\n",
       "      <td>0</td>\n",
       "      <td>6</td>\n",
       "    </tr>\n",
       "    <tr>\n",
       "      <th>297</th>\n",
       "      <td>5</td>\n",
       "      <td>0</td>\n",
       "      <td>7</td>\n",
       "      <td>0</td>\n",
       "      <td>2</td>\n",
       "      <td>1</td>\n",
       "      <td>0</td>\n",
       "      <td>8</td>\n",
       "    </tr>\n",
       "  </tbody>\n",
       "</table>\n",
       "</div>"
      ],
      "text/plain": [
       "     region  device_type  version_name  Account  Account Created  Baby Count  \\\n",
       "12        5            0             7        0                1           1   \n",
       "208       3            0             7        0                1           1   \n",
       "237       5            1             7        1                3           1   \n",
       "265       8            0             7        0                1           1   \n",
       "297       5            0             7        0                2           1   \n",
       "\n",
       "     CouponPrice  Default Baby Birthday  \n",
       "12             0                      4  \n",
       "208            0                      6  \n",
       "237            0                      6  \n",
       "265            0                      6  \n",
       "297            0                      8  "
      ]
     },
     "metadata": {},
     "output_type": "display_data"
    }
   ],
   "source": [
    "display(X.head())"
   ]
  },
  {
   "cell_type": "code",
   "execution_count": 370,
   "metadata": {},
   "outputs": [
    {
     "data": {
      "text/plain": [
       "12     0\n",
       "208    0\n",
       "237    1\n",
       "265    1\n",
       "297    0\n",
       "Name: UserCoupon, dtype: int64"
      ]
     },
     "metadata": {},
     "output_type": "display_data"
    }
   ],
   "source": [
    "display(y.head())"
   ]
  },
  {
   "cell_type": "code",
   "execution_count": 371,
   "metadata": {},
   "outputs": [
    {
     "data": {
      "text/plain": [
       "(array([8.32787290e-02, 1.27889893e+01, 9.93718733e-24, 2.68389591e+00,\n",
       "        8.19359670e-01, 4.01342938e+00, 2.03185513e+02, 7.80688069e-01]),\n",
       " array([7.72942609e-01, 3.59831067e-04, 1.00000000e+00, 1.01579020e-01,\n",
       "        3.65514084e-01, 4.53204227e-02, 2.61589725e-43, 3.77073612e-01]))"
      ]
     },
     "metadata": {},
     "output_type": "display_data"
    }
   ],
   "source": [
    "from sklearn import feature_selection\n",
    "display(feature_selection.f_regression(X,y))"
   ]
  },
  {
   "cell_type": "code",
   "execution_count": 372,
   "metadata": {},
   "outputs": [],
   "source": [
    "X_train, X_test, y_train, y_test = train_test_split(X, y, test_size=0.3, random_state=0)"
   ]
  },
  {
   "cell_type": "code",
   "execution_count": 373,
   "metadata": {},
   "outputs": [
    {
     "data": {
      "text/plain": [
       "LogisticRegression(C=1.0, class_weight=None, dual=False, fit_intercept=True,\n",
       "          intercept_scaling=1, max_iter=400, multi_class='ovr', n_jobs=1,\n",
       "          penalty='l2', random_state=None, solver='liblinear', tol=0.0001,\n",
       "          verbose=0, warm_start=False)"
      ]
     },
     "execution_count": 373,
     "metadata": {},
     "output_type": "execute_result"
    }
   ],
   "source": [
    "model = LogisticRegression(multi_class='ovr', solver='liblinear', n_jobs = 1, max_iter=400)\n",
    "model.fit(X_train, y_train)"
   ]
  },
  {
   "cell_type": "code",
   "execution_count": 374,
   "metadata": {},
   "outputs": [
    {
     "data": {
      "text/plain": [
       "{'C': 1.0,\n",
       " 'class_weight': None,\n",
       " 'dual': False,\n",
       " 'fit_intercept': True,\n",
       " 'intercept_scaling': 1,\n",
       " 'max_iter': 400,\n",
       " 'multi_class': 'ovr',\n",
       " 'n_jobs': 1,\n",
       " 'penalty': 'l2',\n",
       " 'random_state': None,\n",
       " 'solver': 'liblinear',\n",
       " 'tol': 0.0001,\n",
       " 'verbose': 0,\n",
       " 'warm_start': False}"
      ]
     },
     "metadata": {},
     "output_type": "display_data"
    }
   ],
   "source": [
    "display(model.get_params())"
   ]
  },
  {
   "cell_type": "code",
   "execution_count": 375,
   "metadata": {},
   "outputs": [
    {
     "data": {
      "text/plain": [
       "array([[-0.00251648,  0.48601736, -0.20832179,  0.24110672, -0.02955734,\n",
       "         0.54445466,  0.85564278,  0.02379275]])"
      ]
     },
     "metadata": {},
     "output_type": "display_data"
    }
   ],
   "source": [
    "display(model.coef_)"
   ]
  },
  {
   "cell_type": "code",
   "execution_count": 376,
   "metadata": {},
   "outputs": [
    {
     "data": {
      "image/png": "[encoded data removed]",
      "text/plain": [
       "<Figure size 432x288 with 1 Axes>"
      ]
     },
     "metadata": {
      "needs_background": "light"
     },
     "output_type": "display_data"
    }
   ],
   "source": [
    "from sklearn.model_selection import learning_curve\n",
    "train_sizes,train_score,test_score = learning_curve(LogisticRegression(solver = 'liblinear'),X,y,\n",
    "                                                    train_sizes=[i/20 for i in range(1,20)],cv=10,scoring='accuracy')\n",
    "train_error =  1- np.mean(train_score,axis=1)\n",
    "test_error = 1- np.mean(test_score,axis=1)\n",
    "plt.plot(train_sizes,train_error,'o-',color = 'r',label = 'training')\n",
    "plt.plot(train_sizes,test_error,'o-',color = 'g',label = 'testing')\n",
    "plt.legend(loc='best')\n",
    "plt.xlabel('traing examples')\n",
    "plt.ylabel('error')\n",
    "plt.show()"
   ]
  },
  {
   "cell_type": "code",
   "execution_count": 377,
   "metadata": {},
   "outputs": [],
   "source": [
    "y_pred = model.predict(X_test)"
   ]
  },
  {
   "cell_type": "code",
   "execution_count": 378,
   "metadata": {},
   "outputs": [
    {
     "data": {
      "text/plain": [
       "'Accuracy of logistic regression classifier on test set: 0.69'"
      ]
     },
     "metadata": {},
     "output_type": "display_data"
    }
   ],
   "source": [
    "display('Accuracy of logistic regression classifier on test set: {:.2f}'.format(model.score(X_test, y_test)))"
   ]
  },
  {
   "cell_type": "code",
   "execution_count": 379,
   "metadata": {},
   "outputs": [
    {
     "name": "stdout",
     "output_type": "stream",
     "text": [
      "[[227  14]\n",
      " [123  83]]\n"
     ]
    }
   ],
   "source": [
    "from sklearn.metrics import confusion_matrix\n",
    "confusion_matrix = confusion_matrix(y_test, y_pred)\n",
    "print(confusion_matrix)"
   ]
  },
  {
   "cell_type": "code",
   "execution_count": 380,
   "metadata": {
    "scrolled": true
   },
   "outputs": [
    {
     "name": "stdout",
     "output_type": "stream",
     "text": [
      "              precision    recall  f1-score   support\n",
      "\n",
      "           0       0.65      0.94      0.77       241\n",
      "           1       0.86      0.40      0.55       206\n",
      "\n",
      "   micro avg       0.69      0.69      0.69       447\n",
      "   macro avg       0.75      0.67      0.66       447\n",
      "weighted avg       0.74      0.69      0.67       447\n",
      "\n"
     ]
    }
   ],
   "source": [
    "from sklearn.metrics import classification_report\n",
    "print(classification_report(y_test, y_pred))"
   ]
  },
  {
   "cell_type": "code",
   "execution_count": 355,
   "metadata": {},
   "outputs": [
    {
     "data": {
      "image/png": "[encoded data removed]",
      "text/plain": [
       "<Figure size 432x288 with 1 Axes>"
      ]
     },
     "metadata": {
      "needs_background": "light"
     },
     "output_type": "display_data"
    }
   ],
   "source": [
    "from sklearn.metrics import roc_auc_score\n",
    "from sklearn.metrics import roc_curve\n",
    "logit_roc_auc = roc_auc_score(y_test, model.predict(X_test))\n",
    "fpr, tpr, thresholds = roc_curve(y_test, model.predict_proba(X_test)[:,1])\n",
    "plt.figure()\n",
    "plt.plot(fpr, tpr, label='Logistic Regression (area = %0.2f)' % logit_roc_auc)\n",
    "plt.plot([0, 1], [0, 1],'r--')\n",
    "plt.xlim([0.0, 1.0])\n",
    "plt.ylim([0.0, 1.05])\n",
    "plt.xlabel('False Positive Rate')\n",
    "plt.ylabel('True Positive Rate')\n",
    "plt.title('Receiver operating characteristic')\n",
    "plt.legend(loc=\"lower right\")\n",
    "plt.savefig('Log_ROC')\n",
    "plt.show()"
   ]
  },
  {
   "cell_type": "code",
   "execution_count": null,
   "metadata": {},
   "outputs": [],
   "source": []
  }
 ],
 "metadata": {
  "kernelspec": {
   "display_name": "Python 3",
   "language": "python",
   "name": "python3"
  },
  "language_info": {
   "codemirror_mode": {
    "name": "ipython",
    "version": 3
   },
   "file_extension": ".py",
   "mimetype": "text/x-python",
   "name": "python",
   "nbconvert_exporter": "python",
   "pygments_lexer": "ipython3",
   "version": "3.7.2"
  }
 },
 "nbformat": 4,
 "nbformat_minor": 2
}
